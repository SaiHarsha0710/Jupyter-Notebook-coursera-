{
 "cells": [
  {
   "cell_type": "markdown",
   "id": "a06e0eb8",
   "metadata": {},
   "source": [
    "# Data Science Tools and Ecosystem"
   ]
  },
  {
   "cell_type": "markdown",
   "id": "060a86e0",
   "metadata": {},
   "source": [
    "In this notebook, Data SCience Tools and Ecosystem are summarised."
   ]
  },
  {
   "cell_type": "markdown",
   "id": "aa8da5e5",
   "metadata": {},
   "source": [
    "Some of the Popuar languages that data scientists use are:\n",
    "    \n",
    "\n",
    "1.Python\n",
    "\n",
    "\n",
    "\n",
    "\n",
    "\n",
    "\n",
    "\n",
    "\n",
    "2.R\n",
    "\n",
    "\n",
    "\n",
    "\n",
    "\n",
    "\n",
    "\n",
    "\n",
    "\n",
    "3.SQL\n",
    "\n",
    "\n",
    "\n",
    "\n",
    "\n",
    "\n",
    "\n",
    "\n",
    "\n",
    "\n",
    "\n",
    "\n",
    "\n",
    "\n",
    "4.c++\n",
    "\n",
    "\n",
    "\n",
    "\n",
    "\n",
    "\n",
    "\n",
    "\n",
    "\n",
    "5.Java etc,,"
   ]
  },
  {
   "cell_type": "markdown",
   "id": "0113f64d",
   "metadata": {},
   "source": [
    "Some of the commony used libraries used by Data Scientists Include:\n",
    "    \n",
    "\n",
    "\n",
    "1.TensorFlow\n",
    "\n",
    "\n",
    "\n",
    "\n",
    "2.Numpy\n",
    "\n",
    "\n",
    "\n",
    "\n",
    "3.Scipy\n",
    "\n",
    "\n",
    "\n",
    "\n",
    "4.Pandas\n",
    "\n",
    "\n",
    "\n",
    "\n",
    "5.Matplotlib\n",
    "\n",
    "\n",
    "\n",
    "\n",
    "6.Keras\n",
    "\n",
    "\n",
    "\n",
    "\n",
    "7.Scikit-Learn\n",
    "\n",
    "\n",
    "\n",
    "\n",
    "8.PyTorch etc.,"
   ]
  },
  {
   "cell_type": "markdown",
   "id": "69842cd4",
   "metadata": {},
   "source": [
    "|Data Science Tools|\n",
    "|---|\n",
    "|SAS|\n",
    "|Apache Hadoop|\n",
    "|Tensor Flow|"
   ]
  },
  {
   "cell_type": "markdown",
   "id": "d08559ea",
   "metadata": {},
   "source": [
    "###### Below are a few examples of evaluating arithmetic expressions in python"
   ]
  },
  {
   "cell_type": "code",
   "execution_count": 2,
   "id": "a0f63c36",
   "metadata": {},
   "outputs": [
    {
     "data": {
      "text/plain": [
       "17"
      ]
     },
     "execution_count": 2,
     "metadata": {},
     "output_type": "execute_result"
    }
   ],
   "source": [
    "#this is a common arithmetic example to multipy and then add integers\n",
    "(3*4)+5"
   ]
  },
  {
   "cell_type": "code",
   "execution_count": 3,
   "id": "fee913f9",
   "metadata": {},
   "outputs": [
    {
     "data": {
      "text/plain": [
       "3.3333333333333335"
      ]
     },
     "execution_count": 3,
     "metadata": {},
     "output_type": "execute_result"
    }
   ],
   "source": [
    "#this will convert 200minutes to hours by diving by 60\n",
    "200/60"
   ]
  },
  {
   "cell_type": "markdown",
   "id": "a15e99aa",
   "metadata": {},
   "source": [
    "__Objective__\n",
    "* List popular languages for Data sciences\n",
    "\n",
    "* List popular libraries for Data sciences\n",
    "\n",
    "* List of well known Data science Tools\n",
    "\n",
    "* How to provide comments in the cell"
   ]
  },
  {
   "cell_type": "markdown",
   "id": "01871055",
   "metadata": {},
   "source": [
    "## Author\n",
    "\n",
    "Gourav Kumar"
   ]
  },
  {
   "cell_type": "code",
   "execution_count": null,
   "id": "81e33dcf",
   "metadata": {},
   "outputs": [],
   "source": []
  },
  {
   "cell_type": "code",
   "execution_count": null,
   "id": "ebb63f37",
   "metadata": {},
   "outputs": [],
   "source": []
  }
 ],
 "metadata": {
  "kernelspec": {
   "display_name": "Python 3 (ipykernel)",
   "language": "python",
   "name": "python3"
  },
  "language_info": {
   "codemirror_mode": {
    "name": "ipython",
    "version": 3
   },
   "file_extension": ".py",
   "mimetype": "text/x-python",
   "name": "python",
   "nbconvert_exporter": "python",
   "pygments_lexer": "ipython3",
   "version": "3.10.9"
  }
 },
 "nbformat": 4,
 "nbformat_minor": 5
}
